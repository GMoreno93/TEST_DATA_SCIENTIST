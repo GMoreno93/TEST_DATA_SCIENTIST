{
  "nbformat": 4,
  "nbformat_minor": 0,
  "metadata": {
    "colab": {
      "name": "Test_DATA_SCIENTIST.ipynb",
      "provenance": [],
      "authorship_tag": "ABX9TyNRjdnSs5uEGLnK0Lg6Iiio",
      "include_colab_link": true
    },
    "kernelspec": {
      "name": "python3",
      "display_name": "Python 3"
    },
    "language_info": {
      "name": "python"
    }
  },
  "cells": [
    {
      "cell_type": "markdown",
      "metadata": {
        "id": "view-in-github",
        "colab_type": "text"
      },
      "source": [
        "<a href=\"https://colab.research.google.com/github/GMoreno93/TEST_DATA_SCIENTIST/blob/main/Test_DATA_SCIENTIST.ipynb\" target=\"_parent\"><img src=\"https://colab.research.google.com/assets/colab-badge.svg\" alt=\"Open In Colab\"/></a>"
      ]
    },
    {
      "cell_type": "code",
      "metadata": {
        "colab": {
          "resources": {
            "http://localhost:8080/nbextensions/google.colab/files.js": {
              "data": "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",
              "ok": true,
              "headers": [
                [
                  "content-type",
                  "application/javascript"
                ]
              ],
              "status": 200,
              "status_text": ""
            }
          },
          "base_uri": "https://localhost:8080/",
          "height": 244
        },
        "id": "nMGVAlhCEgti",
        "outputId": "33a2d019-0b74-4768-84bf-b367e4ccb272"
      },
      "source": [
        "# Cargar los datos (Enviados En la Prueba)\n",
        "from google.colab import files\n",
        "uploaded = files.upload()\n",
        "for fn in uploaded.keys():\n",
        "  print('User uploaded file \"{name}\" with length {length} bytes'.format(\n",
        "      name=fn, length=len(uploaded[fn])))"
      ],
      "execution_count": 1,
      "outputs": [
        {
          "output_type": "display_data",
          "data": {
            "text/html": [
              "\n",
              "     <input type=\"file\" id=\"files-1abfb9da-57b6-4caa-8702-256b4f89d7c8\" name=\"files[]\" multiple disabled\n",
              "        style=\"border:none\" />\n",
              "     <output id=\"result-1abfb9da-57b6-4caa-8702-256b4f89d7c8\">\n",
              "      Upload widget is only available when the cell has been executed in the\n",
              "      current browser session. Please rerun this cell to enable.\n",
              "      </output>\n",
              "      <script src=\"/nbextensions/google.colab/files.js\"></script> "
            ],
            "text/plain": [
              "<IPython.core.display.HTML object>"
            ]
          },
          "metadata": {}
        },
        {
          "output_type": "stream",
          "name": "stdout",
          "text": [
            "Saving test_label.csv to test_label (1).csv\n",
            "Saving test.csv to test (1).csv\n",
            "Saving train_label.csv to train_label (1).csv\n",
            "Saving train.csv to train (1).csv\n",
            "User uploaded file \"test_label.csv\" with length 13700 bytes\n",
            "User uploaded file \"test.csv\" with length 159039 bytes\n",
            "User uploaded file \"train_label.csv\" with length 54725 bytes\n",
            "User uploaded file \"train.csv\" with length 633841 bytes\n"
          ]
        }
      ]
    },
    {
      "cell_type": "code",
      "metadata": {
        "id": "oh8F885TElto"
      },
      "source": [
        "# Con los Datos en el Colab se realiza la lectura como dataframes de pandas para facilitar el manejo de los datos\n",
        "import pandas as pd\n",
        "import numpy as np\n",
        "df=pd.read_csv('/content/train.csv')\n",
        "df['target'] =pd.read_csv('/content/train_label.csv',header=None)\n",
        "df_test=pd.read_csv('/content/test.csv')\n",
        "df_test['target'] =pd.read_csv('/content/test_label.csv',header=None)#Inspeccionando el dataset"
      ],
      "execution_count": 2,
      "outputs": []
    },
    {
      "cell_type": "code",
      "metadata": {
        "colab": {
          "base_uri": "https://localhost:8080/"
        },
        "id": "2mEpMNUBFB_6",
        "outputId": "544be18c-5349-4a9c-e393-85141271b860"
      },
      "source": [
        "len(df['d69'].unique())"
      ],
      "execution_count": 3,
      "outputs": [
        {
          "output_type": "execute_result",
          "data": {
            "text/plain": [
              "2"
            ]
          },
          "metadata": {},
          "execution_count": 3
        }
      ]
    },
    {
      "cell_type": "code",
      "metadata": {
        "colab": {
          "base_uri": "https://localhost:8080/"
        },
        "id": "xkFdXhFLEmTB",
        "outputId": "ff6eb03c-c3fd-45cb-d4c9-5de691ac39f5"
      },
      "source": [
        "# Verificamos la informacion en cada una de las variables para eliminar las variables que no tienen informacion o solo cuentan con un valor para todos los datos\n",
        "import traceback\n",
        "import re\n",
        "from pandas import Series\n",
        "x = df.dtypes.index\n",
        "count = -1\n",
        "print('Variables con solo un valor')\n",
        "for i in x:\n",
        "    if np.issubdtype(df[i], np.number) and len(df[i].unique()) > 1:\n",
        "        count = count + 1\n",
        "    else:   \n",
        "        print(i)\n",
        "        count = count + 1"
      ],
      "execution_count": 4,
      "outputs": [
        {
          "output_type": "stream",
          "name": "stdout",
          "text": [
            "Variables con solo un valor\n",
            "d70\n"
          ]
        }
      ]
    },
    {
      "cell_type": "code",
      "metadata": {
        "colab": {
          "base_uri": "https://localhost:8080/",
          "height": 293
        },
        "id": "a4aPnArAE5P7",
        "outputId": "e531ccfa-3d49-42cd-b50e-a8e99a889e21"
      },
      "source": [
        "#Analisis de variables  \n",
        "import matplotlib.pyplot as plt \n",
        "pd.crosstab (df['ae55'], df['target']) .plot (kind = 'bar') "
      ],
      "execution_count": 5,
      "outputs": [
        {
          "output_type": "execute_result",
          "data": {
            "text/plain": [
              "<matplotlib.axes._subplots.AxesSubplot at 0x7f7d24ad8d90>"
            ]
          },
          "metadata": {},
          "execution_count": 5
        },
        {
          "output_type": "display_data",
          "data": {
            "image/png": "[encoded data removed]",
            "text/plain": [
              "<Figure size 432x288 with 1 Axes>"
            ]
          },
          "metadata": {
            "needs_background": "light"
          }
        }
      ]
    },
    {
      "cell_type": "code",
      "metadata": {
        "id": "5WDESa2EFvOv"
      },
      "source": [
        "# Eliminamos las variables que tienen un solo valor la variable que no tiene nombre considerando que es un codigo relacionado con cada empresa\n",
        "df_clean1=df.drop(['d70'], axis=1)\n",
        "df_test_clean1=df.drop(['d70'], axis=1)\n",
        "df_clean1=df_clean1.drop(['Unnamed: 0'], axis=1)\n",
        "df_test_clean1=df_test_clean1.drop(['Unnamed: 0'], axis=1)"
      ],
      "execution_count": 6,
      "outputs": []
    },
    {
      "cell_type": "code",
      "metadata": {
        "colab": {
          "base_uri": "https://localhost:8080/"
        },
        "id": "EF9YtuWtGZdK",
        "outputId": "1e0c787e-1e47-4220-a5a2-df185d9321d1"
      },
      "source": [
        "df_clean1.info()"
      ],
      "execution_count": 7,
      "outputs": [
        {
          "output_type": "stream",
          "name": "stdout",
          "text": [
            "<class 'pandas.core.frame.DataFrame'>\n",
            "RangeIndex: 2189 entries, 0 to 2188\n",
            "Data columns (total 71 columns):\n",
            " #   Column  Non-Null Count  Dtype  \n",
            "---  ------  --------------  -----  \n",
            " 0   v0      2189 non-null   float64\n",
            " 1   v1      2189 non-null   float64\n",
            " 2   v2      2189 non-null   float64\n",
            " 3   v3      2189 non-null   float64\n",
            " 4   v4      2189 non-null   float64\n",
            " 5   v5      2189 non-null   float64\n",
            " 6   v6      2189 non-null   float64\n",
            " 7   v7      2189 non-null   float64\n",
            " 8   v8      2189 non-null   float64\n",
            " 9   v9      2189 non-null   float64\n",
            " 10  v10     2189 non-null   float64\n",
            " 11  v11     2189 non-null   float64\n",
            " 12  v12     2189 non-null   float64\n",
            " 13  v13     2189 non-null   float64\n",
            " 14  v14     2189 non-null   float64\n",
            " 15  v15     2189 non-null   float64\n",
            " 16  v16     2189 non-null   float64\n",
            " 17  v17     2189 non-null   float64\n",
            " 18  v18     2189 non-null   float64\n",
            " 19  v19     2189 non-null   float64\n",
            " 20  v20     2189 non-null   float64\n",
            " 21  v21     2189 non-null   float64\n",
            " 22  v22     2189 non-null   float64\n",
            " 23  v23     2189 non-null   float64\n",
            " 24  v24     2189 non-null   float64\n",
            " 25  v25     2189 non-null   float64\n",
            " 26  v26     2189 non-null   float64\n",
            " 27  v27     2189 non-null   float64\n",
            " 28  v28     2189 non-null   float64\n",
            " 29  v29     2189 non-null   float64\n",
            " 30  v30     2189 non-null   float64\n",
            " 31  v31     2189 non-null   float64\n",
            " 32  v32     2189 non-null   float64\n",
            " 33  v33     2189 non-null   int64  \n",
            " 34  v34     2189 non-null   float64\n",
            " 35  v35     2189 non-null   float64\n",
            " 36  v36     2189 non-null   float64\n",
            " 37  tcs37   2189 non-null   int64  \n",
            " 38  tcs38   2189 non-null   int64  \n",
            " 39  tcs39   2189 non-null   int64  \n",
            " 40  tcs40   2189 non-null   int64  \n",
            " 41  tcs41   2189 non-null   int64  \n",
            " 42  tcs42   2189 non-null   int64  \n",
            " 43  tc43    2189 non-null   int64  \n",
            " 44  tc44    2189 non-null   int64  \n",
            " 45  tc45    2189 non-null   int64  \n",
            " 46  tc46    2189 non-null   int64  \n",
            " 47  tc47    2189 non-null   int64  \n",
            " 48  tc48    2189 non-null   int64  \n",
            " 49  tc49    2189 non-null   int64  \n",
            " 50  tc50    2189 non-null   int64  \n",
            " 51  tc51    2189 non-null   int64  \n",
            " 52  tc52    2189 non-null   int64  \n",
            " 53  tc53    2189 non-null   int64  \n",
            " 54  dv54    2189 non-null   int64  \n",
            " 55  ae55    2189 non-null   int64  \n",
            " 56  ae56    2189 non-null   int64  \n",
            " 57  ae57    2189 non-null   int64  \n",
            " 58  ae58    2189 non-null   int64  \n",
            " 59  ae59    2189 non-null   int64  \n",
            " 60  ae60    2189 non-null   int64  \n",
            " 61  ae61    2189 non-null   int64  \n",
            " 62  ae62    2189 non-null   int64  \n",
            " 63  ae63    2189 non-null   int64  \n",
            " 64  ae64    2189 non-null   int64  \n",
            " 65  ae65    2189 non-null   int64  \n",
            " 66  ae66    2189 non-null   int64  \n",
            " 67  ae67    2189 non-null   int64  \n",
            " 68  ae68    2189 non-null   int64  \n",
            " 69  d69     2189 non-null   int64  \n",
            " 70  target  2189 non-null   float64\n",
            "dtypes: float64(37), int64(34)\n",
            "memory usage: 1.2 MB\n"
          ]
        }
      ]
    },
    {
      "cell_type": "code",
      "metadata": {
        "id": "FZaPO9Y0Gddz"
      },
      "source": [
        "# Funcion para hacer WOE and IV\n",
        "import pandas as pd\n",
        "import numpy as np\n",
        "import pandas.core.algorithms as algos\n",
        "import scipy.stats.stats as stats\n",
        "import string\n",
        "\n",
        "max_bin = 20\n",
        "force_bin = 3\n",
        "\n",
        "#binning function\n",
        "def mono_bin(Y, X, n = max_bin):\n",
        "    \n",
        "    df1 = pd.DataFrame({\"X\": X, \"Y\": Y})\n",
        "    justmiss = df1[['X','Y']][df1.X.isnull()]\n",
        "    notmiss = df1[['X','Y']][df1.X.notnull()]\n",
        "    r = 0\n",
        "    while np.abs(r) < 1:\n",
        "        try:\n",
        "            d1 = pd.DataFrame({\"X\": notmiss.X, \"Y\": notmiss.Y, \"Bucket\": pd.qcut(notmiss.X, n)})\n",
        "            d2 = d1.groupby('Bucket', as_index=True)\n",
        "            r, p = stats.spearmanr(d2.mean().X, d2.mean().Y)\n",
        "            n = n - 1 \n",
        "        except Exception as e:\n",
        "            n = n - 1\n",
        "\n",
        "    if len(d2) == 1:\n",
        "        n = force_bin         \n",
        "        bins = algos.quantile(notmiss.X, np.linspace(0, 1, n))\n",
        "        if len(np.unique(bins)) == 2:\n",
        "            bins = np.insert(bins, 0, 1)\n",
        "            bins[1] = bins[1]-(bins[1]/2)\n",
        "        d1 = pd.DataFrame({\"X\": notmiss.X, \"Y\": notmiss.Y, \"Bucket\": pd.cut(notmiss.X, np.unique(bins),include_lowest=True)}) \n",
        "        d2 = d1.groupby('Bucket', as_index=True)\n",
        "    \n",
        "    d3 = pd.DataFrame({},index=[])\n",
        "    d3[\"Valor_Min\"] = d2.min().X\n",
        "    d3[\"Valor_Max\"] = d2.max().X\n",
        "    d3[\"COUNT\"] = d2.count().Y\n",
        "    d3[\"EVENT\"] = d2.sum().Y\n",
        "    d3[\"NONEVENT\"] = d2.count().Y - d2.sum().Y\n",
        "    d3=d3.reset_index(drop=True)\n",
        "    \n",
        "    if len(justmiss.index) > 0:\n",
        "        d4 = pd.DataFrame({'Valor_Min':np.nan},index=[0])\n",
        "        d4[\"Valor_Max\"] = np.nan\n",
        "        d4[\"COUNT\"] = justmiss.count().Y\n",
        "        d4[\"EVENT\"] = justmiss.sum().Y\n",
        "        d4[\"NONEVENT\"] = justmiss.count().Y - justmiss.sum().Y\n",
        "        d3 = d3.append(d4,ignore_index=True)\n",
        "    \n",
        "    d3[\"EVENT_RATE\"] = d3.EVENT/d3.COUNT\n",
        "    d3[\"NON_EVENT_RATE\"] = d3.NONEVENT/d3.COUNT\n",
        "    d3[\"DIST_EVENT\"] = d3.EVENT/d3.sum().EVENT\n",
        "    d3[\"DIST_NON_EVENT\"] = d3.NONEVENT/d3.sum().NONEVENT\n",
        "    d3[\"WOE\"] = np.log(d3.DIST_EVENT/d3.DIST_NON_EVENT)\n",
        "    d3[\"IV\"] = (d3.DIST_EVENT-d3.DIST_NON_EVENT)*np.log(d3.DIST_EVENT/d3.DIST_NON_EVENT)\n",
        "    d3[\"VAR_NAME\"] = \"VAR\"\n",
        "    d3 = d3[['VAR_NAME','Valor_Min', 'Valor_Max', 'COUNT', 'EVENT', 'EVENT_RATE', 'NONEVENT', 'NON_EVENT_RATE', 'DIST_EVENT','DIST_NON_EVENT','WOE', 'IV']]       \n",
        "    d3 = d3.replace([np.inf, -np.inf], 0)\n",
        "    d3.IV = d3.IV.sum()\n",
        "    \n",
        "    return(d3)\n",
        "\n",
        "def data_vars(df1, target):\n",
        "    \n",
        "   \n",
        "    x = df1.dtypes.index\n",
        "    count = -1\n",
        "    print('Variables que tienen maximo 2 valores')\n",
        "    for i in x:\n",
        "        if np.issubdtype(df1[i], np.number) and len(df1[i].unique()) > 2:\n",
        "            conv = mono_bin(target, df1[i])\n",
        "            conv[\"VAR_NAME\"] = i\n",
        "            count = count + 1\n",
        "        else:\n",
        "          print(i)\n",
        "        if count == 0:\n",
        "            iv_df = conv\n",
        "        else:\n",
        "            iv_df = iv_df.append(conv,ignore_index=True)\n",
        "    \n",
        "    iv = pd.DataFrame({'IV':iv_df.groupby('VAR_NAME').IV.max()})\n",
        "    iv = iv.reset_index()\n",
        "    return(iv_df,iv)"
      ],
      "execution_count": 8,
      "outputs": []
    },
    {
      "cell_type": "code",
      "metadata": {
        "colab": {
          "base_uri": "https://localhost:8080/"
        },
        "id": "5OeENUpyJRoK",
        "outputId": "fa708f5f-7164-4d31-ee38-e4c9190d95cb"
      },
      "source": [
        "final_iv, IV = data_vars (df_clean1, df_clean1.target)"
      ],
      "execution_count": 9,
      "outputs": [
        {
          "output_type": "stream",
          "name": "stdout",
          "text": [
            "Variables que tienen maximo 2 valores\n",
            "v28\n",
            "v29\n",
            "v31\n",
            "v32\n",
            "tcs37\n",
            "tcs38\n",
            "tcs39\n",
            "tcs40\n",
            "tcs41\n",
            "tcs42\n",
            "tc43\n",
            "tc44\n",
            "tc45\n",
            "tc46\n",
            "tc47\n",
            "tc48\n",
            "tc49\n",
            "tc50\n",
            "tc51\n",
            "tc52\n",
            "tc53\n",
            "dv54\n",
            "ae55\n",
            "ae56\n",
            "ae57\n",
            "ae58\n",
            "ae59\n",
            "ae60\n",
            "ae61\n",
            "ae62\n",
            "ae63\n",
            "ae64\n",
            "ae65\n",
            "ae66\n",
            "ae67\n",
            "ae68\n",
            "d69\n",
            "target\n"
          ]
        }
      ]
    },
    {
      "cell_type": "code",
      "metadata": {
        "colab": {
          "base_uri": "https://localhost:8080/",
          "height": 420
        },
        "id": "CKqKCKpJKixJ",
        "outputId": "91457ed2-17f6-44c8-de60-629ece8cf520"
      },
      "source": [
        "final_iv"
      ],
      "execution_count": 10,
      "outputs": [
        {
          "output_type": "execute_result",
          "data": {
            "text/html": [
              "<div>\n",
              "<style scoped>\n",
              "    .dataframe tbody tr th:only-of-type {\n",
              "        vertical-align: middle;\n",
              "    }\n",
              "\n",
              "    .dataframe tbody tr th {\n",
              "        vertical-align: top;\n",
              "    }\n",
              "\n",
              "    .dataframe thead th {\n",
              "        text-align: right;\n",
              "    }\n",
              "</style>\n",
              "<table border=\"1\" class=\"dataframe\">\n",
              "  <thead>\n",
              "    <tr style=\"text-align: right;\">\n",
              "      <th></th>\n",
              "      <th>VAR_NAME</th>\n",
              "      <th>Valor_Min</th>\n",
              "      <th>Valor_Max</th>\n",
              "      <th>COUNT</th>\n",
              "      <th>EVENT</th>\n",
              "      <th>EVENT_RATE</th>\n",
              "      <th>NONEVENT</th>\n",
              "      <th>NON_EVENT_RATE</th>\n",
              "      <th>DIST_EVENT</th>\n",
              "      <th>DIST_NON_EVENT</th>\n",
              "      <th>WOE</th>\n",
              "      <th>IV</th>\n",
              "    </tr>\n",
              "  </thead>\n",
              "  <tbody>\n",
              "    <tr>\n",
              "      <th>0</th>\n",
              "      <td>v0</td>\n",
              "      <td>0.00</td>\n",
              "      <td>0.000000e+00</td>\n",
              "      <td>2139</td>\n",
              "      <td>381.0</td>\n",
              "      <td>0.178121</td>\n",
              "      <td>1758.0</td>\n",
              "      <td>0.821879</td>\n",
              "      <td>0.888112</td>\n",
              "      <td>0.998864</td>\n",
              "      <td>-0.117521</td>\n",
              "      <td>0.521329</td>\n",
              "    </tr>\n",
              "    <tr>\n",
              "      <th>1</th>\n",
              "      <td>v0</td>\n",
              "      <td>7788.00</td>\n",
              "      <td>5.030246e+06</td>\n",
              "      <td>50</td>\n",
              "      <td>48.0</td>\n",
              "      <td>0.960000</td>\n",
              "      <td>2.0</td>\n",
              "      <td>0.040000</td>\n",
              "      <td>0.111888</td>\n",
              "      <td>0.001136</td>\n",
              "      <td>4.589666</td>\n",
              "      <td>0.521329</td>\n",
              "    </tr>\n",
              "    <tr>\n",
              "      <th>2</th>\n",
              "      <td>v1</td>\n",
              "      <td>0.00</td>\n",
              "      <td>1.781006e+05</td>\n",
              "      <td>1095</td>\n",
              "      <td>164.0</td>\n",
              "      <td>0.149772</td>\n",
              "      <td>931.0</td>\n",
              "      <td>0.850228</td>\n",
              "      <td>0.382284</td>\n",
              "      <td>0.528977</td>\n",
              "      <td>-0.324781</td>\n",
              "      <td>0.087415</td>\n",
              "    </tr>\n",
              "    <tr>\n",
              "      <th>3</th>\n",
              "      <td>v1</td>\n",
              "      <td>178226.23</td>\n",
              "      <td>1.257078e+07</td>\n",
              "      <td>1094</td>\n",
              "      <td>265.0</td>\n",
              "      <td>0.242230</td>\n",
              "      <td>829.0</td>\n",
              "      <td>0.757770</td>\n",
              "      <td>0.617716</td>\n",
              "      <td>0.471023</td>\n",
              "      <td>0.271122</td>\n",
              "      <td>0.087415</td>\n",
              "    </tr>\n",
              "    <tr>\n",
              "      <th>4</th>\n",
              "      <td>v2</td>\n",
              "      <td>0.00</td>\n",
              "      <td>1.000000e+00</td>\n",
              "      <td>165</td>\n",
              "      <td>64.0</td>\n",
              "      <td>0.387879</td>\n",
              "      <td>101.0</td>\n",
              "      <td>0.612121</td>\n",
              "      <td>0.149184</td>\n",
              "      <td>0.057386</td>\n",
              "      <td>0.955375</td>\n",
              "      <td>0.097107</td>\n",
              "    </tr>\n",
              "    <tr>\n",
              "      <th>...</th>\n",
              "      <td>...</td>\n",
              "      <td>...</td>\n",
              "      <td>...</td>\n",
              "      <td>...</td>\n",
              "      <td>...</td>\n",
              "      <td>...</td>\n",
              "      <td>...</td>\n",
              "      <td>...</td>\n",
              "      <td>...</td>\n",
              "      <td>...</td>\n",
              "      <td>...</td>\n",
              "      <td>...</td>\n",
              "    </tr>\n",
              "    <tr>\n",
              "      <th>145</th>\n",
              "      <td>v36</td>\n",
              "      <td>59.00</td>\n",
              "      <td>7.310000e+02</td>\n",
              "      <td>86</td>\n",
              "      <td>5.0</td>\n",
              "      <td>0.058140</td>\n",
              "      <td>81.0</td>\n",
              "      <td>0.941860</td>\n",
              "      <td>0.011655</td>\n",
              "      <td>0.046023</td>\n",
              "      <td>-1.373399</td>\n",
              "      <td>0.048417</td>\n",
              "    </tr>\n",
              "    <tr>\n",
              "      <th>146</th>\n",
              "      <td>v36</td>\n",
              "      <td>-3.00</td>\n",
              "      <td>3.100000e+01</td>\n",
              "      <td>2103</td>\n",
              "      <td>424.0</td>\n",
              "      <td>0.201617</td>\n",
              "      <td>1679.0</td>\n",
              "      <td>0.798383</td>\n",
              "      <td>0.988345</td>\n",
              "      <td>0.953977</td>\n",
              "      <td>0.035392</td>\n",
              "      <td>0.048417</td>\n",
              "    </tr>\n",
              "    <tr>\n",
              "      <th>147</th>\n",
              "      <td>v36</td>\n",
              "      <td>59.00</td>\n",
              "      <td>7.310000e+02</td>\n",
              "      <td>86</td>\n",
              "      <td>5.0</td>\n",
              "      <td>0.058140</td>\n",
              "      <td>81.0</td>\n",
              "      <td>0.941860</td>\n",
              "      <td>0.011655</td>\n",
              "      <td>0.046023</td>\n",
              "      <td>-1.373399</td>\n",
              "      <td>0.048417</td>\n",
              "    </tr>\n",
              "    <tr>\n",
              "      <th>148</th>\n",
              "      <td>v36</td>\n",
              "      <td>-3.00</td>\n",
              "      <td>3.100000e+01</td>\n",
              "      <td>2103</td>\n",
              "      <td>424.0</td>\n",
              "      <td>0.201617</td>\n",
              "      <td>1679.0</td>\n",
              "      <td>0.798383</td>\n",
              "      <td>0.988345</td>\n",
              "      <td>0.953977</td>\n",
              "      <td>0.035392</td>\n",
              "      <td>0.048417</td>\n",
              "    </tr>\n",
              "    <tr>\n",
              "      <th>149</th>\n",
              "      <td>v36</td>\n",
              "      <td>59.00</td>\n",
              "      <td>7.310000e+02</td>\n",
              "      <td>86</td>\n",
              "      <td>5.0</td>\n",
              "      <td>0.058140</td>\n",
              "      <td>81.0</td>\n",
              "      <td>0.941860</td>\n",
              "      <td>0.011655</td>\n",
              "      <td>0.046023</td>\n",
              "      <td>-1.373399</td>\n",
              "      <td>0.048417</td>\n",
              "    </tr>\n",
              "  </tbody>\n",
              "</table>\n",
              "<p>150 rows × 12 columns</p>\n",
              "</div>"
            ],
            "text/plain": [
              "    VAR_NAME  Valor_Min     Valor_Max  ...  DIST_NON_EVENT       WOE        IV\n",
              "0         v0       0.00  0.000000e+00  ...        0.998864 -0.117521  0.521329\n",
              "1         v0    7788.00  5.030246e+06  ...        0.001136  4.589666  0.521329\n",
              "2         v1       0.00  1.781006e+05  ...        0.528977 -0.324781  0.087415\n",
              "3         v1  178226.23  1.257078e+07  ...        0.471023  0.271122  0.087415\n",
              "4         v2       0.00  1.000000e+00  ...        0.057386  0.955375  0.097107\n",
              "..       ...        ...           ...  ...             ...       ...       ...\n",
              "145      v36      59.00  7.310000e+02  ...        0.046023 -1.373399  0.048417\n",
              "146      v36      -3.00  3.100000e+01  ...        0.953977  0.035392  0.048417\n",
              "147      v36      59.00  7.310000e+02  ...        0.046023 -1.373399  0.048417\n",
              "148      v36      -3.00  3.100000e+01  ...        0.953977  0.035392  0.048417\n",
              "149      v36      59.00  7.310000e+02  ...        0.046023 -1.373399  0.048417\n",
              "\n",
              "[150 rows x 12 columns]"
            ]
          },
          "metadata": {},
          "execution_count": 10
        }
      ]
    },
    {
      "cell_type": "code",
      "metadata": {
        "colab": {
          "base_uri": "https://localhost:8080/"
        },
        "id": "zDlBxO1-KGO3",
        "outputId": "ba96ae3d-84ea-4c6a-a8ae-a3fe0fd3d5e2"
      },
      "source": [
        "# Variables para las que se realizó WOE \n",
        "final_iv['VAR_NAME'].unique()"
      ],
      "execution_count": 11,
      "outputs": [
        {
          "output_type": "execute_result",
          "data": {
            "text/plain": [
              "array(['v0', 'v1', 'v2', 'v3', 'v4', 'v5', 'v6', 'v7', 'v8', 'v9', 'v10',\n",
              "       'v11', 'v12', 'v13', 'v14', 'v15', 'v16', 'v17', 'v18', 'v19',\n",
              "       'v20', 'v21', 'v22', 'v23', 'v24', 'v25', 'v26', 'v27', 'v30',\n",
              "       'v33', 'v34', 'v35', 'v36'], dtype=object)"
            ]
          },
          "metadata": {},
          "execution_count": 11
        }
      ]
    },
    {
      "cell_type": "code",
      "metadata": {
        "id": "CN5kmDhXLCBE"
      },
      "source": [
        "#Creamos Las nuevas variables \n",
        "transform_vars_list = final_iv['VAR_NAME'].unique()\n",
        "transform_prefix = 'new_' \n",
        "for var in transform_vars_list:\n",
        "    small_df = final_iv[final_iv['VAR_NAME'] == var]\n",
        "    transform_dict = dict(zip(small_df.Valor_Max,small_df.WOE))\n",
        "    replace_cmd = ''\n",
        "    replace_cmd1 = ''\n",
        "    for i in sorted(transform_dict.items()):\n",
        "        replace_cmd = replace_cmd + str(i[1]) + str(' if x <= ') + str(i[0]) + ' else '\n",
        "        replace_cmd1 = replace_cmd1 + str(i[1]) + str(' if x == \"') + str(i[0]) + '\" else '\n",
        "    replace_cmd = replace_cmd + '0'\n",
        "    replace_cmd1 = replace_cmd1 + '0'\n",
        "    if replace_cmd != '0':\n",
        "        try:\n",
        "            df_clean1[transform_prefix + var] = df_clean1[var].apply(lambda x: eval(replace_cmd))\n",
        "            df_test_clean1[transform_prefix + var] = df_test_clean1[var].apply(lambda x: eval(replace_cmd))\n",
        "        except:\n",
        "            df_clean1[transform_prefix + var] = df_clean1[var].apply(lambda x: eval(replace_cmd1))\n",
        "            df_test_clean1[transform_prefix + var] = df_test_clean1[var].apply(lambda x: eval(replace_cmd1))"
      ],
      "execution_count": 12,
      "outputs": []
    },
    {
      "cell_type": "code",
      "metadata": {
        "id": "l3jtau9ILoDf"
      },
      "source": [
        "#variable que contiene las nuevas WOE y eliminamos las anteriores\n",
        "df_clean2=df_clean1\n",
        "df_test_clean2=df_test_clean1\n",
        "df_clean2=df_clean2.drop(final_iv['VAR_NAME'].unique(), axis=1)\n",
        "df_test_clean2=df_test_clean2.drop(final_iv['VAR_NAME'].unique(), axis=1)"
      ],
      "execution_count": 13,
      "outputs": []
    },
    {
      "cell_type": "code",
      "metadata": {
        "colab": {
          "base_uri": "https://localhost:8080/",
          "height": 726
        },
        "id": "4ctBvED3L8Rx",
        "outputId": "13a7b0f8-fafc-42b0-9fff-631dca719f39"
      },
      "source": [
        "import matplotlib.pyplot as plt \n",
        "pd.crosstab (df['v1'], df_clean2['target']) .plot (kind = 'bar') \n",
        "pd.crosstab (df_clean2['new_v1'], df_clean2['target']) .plot (kind = 'bar') "
      ],
      "execution_count": 14,
      "outputs": [
        {
          "output_type": "execute_result",
          "data": {
            "text/plain": [
              "<matplotlib.axes._subplots.AxesSubplot at 0x7f7d13ef5f90>"
            ]
          },
          "metadata": {},
          "execution_count": 14
        },
        {
          "output_type": "display_data",
          "data": {
            "image/png": "[encoded data removed]",
            "text/plain": [
              "<Figure size 432x288 with 1 Axes>"
            ]
          },
          "metadata": {
            "needs_background": "light"
          }
        },
        {
          "output_type": "display_data",
          "data": {
            "image/png": "[encoded data removed]",
            "text/plain": [
              "<Figure size 432x288 with 1 Axes>"
            ]
          },
          "metadata": {
            "needs_background": "light"
          }
        }
      ]
    },
    {
      "cell_type": "code",
      "metadata": {
        "id": "nJShCuIRMgZ0"
      },
      "source": [
        "X_train=np.array(df_clean2.drop(['target'], axis=1))\n",
        "Y_train = np.array(df_clean2['target'])\n",
        "X_test=np.array(df_test_clean2.drop(['target'], axis=1))\n",
        "Y_test = np.array(df_test_clean2['target'])"
      ],
      "execution_count": 15,
      "outputs": []
    },
    {
      "cell_type": "code",
      "metadata": {
        "colab": {
          "base_uri": "https://localhost:8080/"
        },
        "id": "9peQDsSHMpq7",
        "outputId": "587f92ec-7756-4142-ae9c-dd4395f2d6ee"
      },
      "source": [
        "from sklearn.preprocessing import StandardScaler\n",
        "from sklearn.linear_model import LogisticRegression\n",
        "\n",
        "escalar = StandardScaler()\n",
        "X_train = escalar.fit_transform(X_train)\n",
        "X_test = escalar.transform(X_test)\n",
        "algoritmo = LogisticRegression(class_weight=[0.5,1],max_iter=10000)\n",
        "algoritmo.fit(X_train, Y_train)\n"
      ],
      "execution_count": 16,
      "outputs": [
        {
          "output_type": "execute_result",
          "data": {
            "text/plain": [
              "LogisticRegression(C=1.0, class_weight=[0.5, 1], dual=False, fit_intercept=True,\n",
              "                   intercept_scaling=1, l1_ratio=None, max_iter=10000,\n",
              "                   multi_class='auto', n_jobs=None, penalty='l2',\n",
              "                   random_state=None, solver='lbfgs', tol=0.0001, verbose=0,\n",
              "                   warm_start=False)"
            ]
          },
          "metadata": {},
          "execution_count": 16
        }
      ]
    },
    {
      "cell_type": "code",
      "metadata": {
        "id": "PEworiYBM0HE"
      },
      "source": [
        "y_pred = algoritmo.predict(X_test)"
      ],
      "execution_count": 17,
      "outputs": []
    },
    {
      "cell_type": "code",
      "metadata": {
        "colab": {
          "base_uri": "https://localhost:8080/"
        },
        "id": "zdolQijTM_bE",
        "outputId": "74a08226-7579-4c39-8e82-26369eb24a7f"
      },
      "source": [
        "#Calculo de Metricas de evaluacion del modelo\n",
        "from sklearn.metrics import confusion_matrix\n",
        "matriz = confusion_matrix(Y_test, y_pred)\n",
        "print('Matriz de Confusión:')\n",
        "print(matriz)\n",
        "#Calculo la precisión del modelo\n",
        "from sklearn.metrics import precision_score\n",
        "precision = precision_score(Y_test, y_pred)\n",
        "print('Precisión del modelo:')\n",
        "print(precision)\n",
        "#Calculo la sensibilidad del modelo\n",
        "from sklearn.metrics import recall_score\n",
        "sensibilidad = recall_score(Y_test, y_pred)\n",
        "print('Sensibilidad del modelo:')\n",
        "print(sensibilidad)\n",
        "#Calculo el Puntaje F1 del modelo\n",
        "from sklearn.metrics import f1_score\n",
        "puntajef1 = f1_score(Y_test, y_pred)\n",
        "print('Puntaje F1 del modelo:')\n",
        "print(puntajef1)\n",
        "#Calculo la curva ROC - AUC del modelo\n",
        "from sklearn.metrics import roc_auc_score\n",
        "roc_auc = roc_auc_score(Y_test, y_pred)\n",
        "print('Curva ROC - AUC del modelo:')\n",
        "print(roc_auc)"
      ],
      "execution_count": 18,
      "outputs": [
        {
          "output_type": "stream",
          "name": "stdout",
          "text": [
            "Matriz de Confusión:\n",
            "[[1651  109]\n",
            " [ 131  298]]\n",
            "Precisión del modelo:\n",
            "0.7321867321867321\n",
            "Sensibilidad del modelo:\n",
            "0.6946386946386947\n",
            "Puntaje F1 del modelo:\n",
            "0.7129186602870813\n",
            "Curva ROC - AUC del modelo:\n",
            "0.8163534382284383\n"
          ]
        }
      ]
    },
    {
      "cell_type": "code",
      "metadata": {
        "colab": {
          "base_uri": "https://localhost:8080/",
          "height": 295
        },
        "id": "crOcugNpPT07",
        "outputId": "3645efa5-b70c-4fb0-be37-4d3b6d7f3bf9"
      },
      "source": [
        "from sklearn.metrics import roc_auc_score\n",
        "from sklearn.metrics import roc_curve\n",
        "logit_roc_auc = roc_auc_score(Y_test, algoritmo.predict(X_test))\n",
        "fpr, tpr, thresholds = roc_curve(Y_test, algoritmo.predict_proba(X_test)[:,1])\n",
        "plt.figure()\n",
        "plt.plot(fpr, tpr, label='Regresion Logistica (area = %0.2f)' % logit_roc_auc)\n",
        "plt.plot([0, 1], [0, 1],'r--')\n",
        "plt.xlim([0.0, 1.0])\n",
        "plt.ylim([0.0, 1.05])\n",
        "plt.xlabel('Falsos Positivos')\n",
        "plt.ylabel('Verdaderos Positivos')\n",
        "plt.title('ROC')\n",
        "plt.legend(loc=\"lower right\")\n",
        "plt.show()"
      ],
      "execution_count": 19,
      "outputs": [
        {
          "output_type": "display_data",
          "data": {
            "image/png": "[encoded data removed]",
            "text/plain": [
              "<Figure size 432x288 with 1 Axes>"
            ]
          },
          "metadata": {
            "needs_background": "light"
          }
        }
      ]
    }
  ]
}